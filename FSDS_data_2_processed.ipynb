{
  "cells": [
    {
      "attachments": {},
      "cell_type": "markdown",
      "metadata": {
        "id": "v1NuRA7PYjj1"
      },
      "source": [
        "Download 2 Datasets from the following data source:\n",
        "\n",
        "1. credit.csv\n",
        "2. movies_metadata.csv\n",
        "\n",
        "[The Movies Dataset](https://www.kaggle.com/rounakbanik/the-movies-dataset)"
      ]
    },
    {
      "cell_type": "code",
      "execution_count": 2,
      "metadata": {
        "id": "fx5XV_VtyJf5"
      },
      "outputs": [],
      "source": [
        "import numpy as np\n",
        "import pandas as pd"
      ]
    },
    {
      "cell_type": "code",
      "execution_count": 3,
      "metadata": {
        "colab": {
          "base_uri": "https://localhost:8080/",
          "height": 250
        },
        "collapsed": true,
        "id": "Uko7ejALyh9W",
        "outputId": "51253b6a-9e91-44c7-c8a5-1915fad5cf08"
      },
      "outputs": [
        {
          "data": {
            "text/html": [
              "<div>\n",
              "<style scoped>\n",
              "    .dataframe tbody tr th:only-of-type {\n",
              "        vertical-align: middle;\n",
              "    }\n",
              "\n",
              "    .dataframe tbody tr th {\n",
              "        vertical-align: top;\n",
              "    }\n",
              "\n",
              "    .dataframe thead th {\n",
              "        text-align: right;\n",
              "    }\n",
              "</style>\n",
              "<table border=\"1\" class=\"dataframe\">\n",
              "  <thead>\n",
              "    <tr style=\"text-align: right;\">\n",
              "      <th></th>\n",
              "      <th>cast</th>\n",
              "      <th>crew</th>\n",
              "      <th>id</th>\n",
              "    </tr>\n",
              "  </thead>\n",
              "  <tbody>\n",
              "    <tr>\n",
              "      <th>0</th>\n",
              "      <td>[{'cast_id': 14, 'character': 'Woody (voice)',...</td>\n",
              "      <td>[{'credit_id': '52fe4284c3a36847f8024f49', 'de...</td>\n",
              "      <td>862</td>\n",
              "    </tr>\n",
              "    <tr>\n",
              "      <th>1</th>\n",
              "      <td>[{'cast_id': 1, 'character': 'Alan Parrish', '...</td>\n",
              "      <td>[{'credit_id': '52fe44bfc3a36847f80a7cd1', 'de...</td>\n",
              "      <td>8844</td>\n",
              "    </tr>\n",
              "    <tr>\n",
              "      <th>2</th>\n",
              "      <td>[{'cast_id': 2, 'character': 'Max Goldman', 'c...</td>\n",
              "      <td>[{'credit_id': '52fe466a9251416c75077a89', 'de...</td>\n",
              "      <td>15602</td>\n",
              "    </tr>\n",
              "    <tr>\n",
              "      <th>3</th>\n",
              "      <td>[{'cast_id': 1, 'character': \"Savannah 'Vannah...</td>\n",
              "      <td>[{'credit_id': '52fe44779251416c91011acb', 'de...</td>\n",
              "      <td>31357</td>\n",
              "    </tr>\n",
              "    <tr>\n",
              "      <th>4</th>\n",
              "      <td>[{'cast_id': 1, 'character': 'George Banks', '...</td>\n",
              "      <td>[{'credit_id': '52fe44959251416c75039ed7', 'de...</td>\n",
              "      <td>11862</td>\n",
              "    </tr>\n",
              "  </tbody>\n",
              "</table>\n",
              "</div>"
            ],
            "text/plain": [
              "                                                cast  \\\n",
              "0  [{'cast_id': 14, 'character': 'Woody (voice)',...   \n",
              "1  [{'cast_id': 1, 'character': 'Alan Parrish', '...   \n",
              "2  [{'cast_id': 2, 'character': 'Max Goldman', 'c...   \n",
              "3  [{'cast_id': 1, 'character': \"Savannah 'Vannah...   \n",
              "4  [{'cast_id': 1, 'character': 'George Banks', '...   \n",
              "\n",
              "                                                crew     id  \n",
              "0  [{'credit_id': '52fe4284c3a36847f8024f49', 'de...    862  \n",
              "1  [{'credit_id': '52fe44bfc3a36847f80a7cd1', 'de...   8844  \n",
              "2  [{'credit_id': '52fe466a9251416c75077a89', 'de...  15602  \n",
              "3  [{'credit_id': '52fe44779251416c91011acb', 'de...  31357  \n",
              "4  [{'credit_id': '52fe44959251416c75039ed7', 'de...  11862  "
            ]
          },
          "execution_count": 3,
          "metadata": {},
          "output_type": "execute_result"
        }
      ],
      "source": [
        "\n",
        "credits = pd.read_csv('/Users/appleplay/Desktop/Netflix Recommender app/datasets/credits.csv')\n",
        "credits.head()"
      ]
    },
    {
      "cell_type": "code",
      "execution_count": 7,
      "metadata": {
        "colab": {
          "base_uri": "https://localhost:8080/"
        },
        "collapsed": true,
        "id": "664VFy3yy189",
        "outputId": "23e1f176-29d6-41e5-b195-0db98d80b3aa"
      },
      "outputs": [
        {
          "name": "stderr",
          "output_type": "stream",
          "text": [
            "/var/folders/8j/5mg1hqbx0rxgbv5q60g_dhhc0000gn/T/ipykernel_1573/955767234.py:1: DtypeWarning: Columns (10) have mixed types. Specify dtype option on import or set low_memory=False.\n",
            "  meta = pd.read_csv('/Users/appleplay/Desktop/Netflix Recommender app/datasets/movies_metadata.csv')\n"
          ]
        }
      ],
      "source": [
        "\n",
        "meta = pd.read_csv('/Users/appleplay/Desktop/Netflix Recommender app/datasets/movies_metadata.csv')"
      ]
    },
    {
      "cell_type": "code",
      "execution_count": 8,
      "metadata": {
        "colab": {
          "base_uri": "https://localhost:8080/",
          "height": 1000
        },
        "id": "l1Urkoc1tnkf",
        "outputId": "19d71101-a21d-4c64-c2fd-8b0e4005224a"
      },
      "outputs": [
        {
          "data": {
            "text/html": [
              "<div>\n",
              "<style scoped>\n",
              "    .dataframe tbody tr th:only-of-type {\n",
              "        vertical-align: middle;\n",
              "    }\n",
              "\n",
              "    .dataframe tbody tr th {\n",
              "        vertical-align: top;\n",
              "    }\n",
              "\n",
              "    .dataframe thead th {\n",
              "        text-align: right;\n",
              "    }\n",
              "</style>\n",
              "<table border=\"1\" class=\"dataframe\">\n",
              "  <thead>\n",
              "    <tr style=\"text-align: right;\">\n",
              "      <th></th>\n",
              "      <th>adult</th>\n",
              "      <th>belongs_to_collection</th>\n",
              "      <th>budget</th>\n",
              "      <th>genres</th>\n",
              "      <th>homepage</th>\n",
              "      <th>id</th>\n",
              "      <th>imdb_id</th>\n",
              "      <th>original_language</th>\n",
              "      <th>original_title</th>\n",
              "      <th>overview</th>\n",
              "      <th>...</th>\n",
              "      <th>release_date</th>\n",
              "      <th>revenue</th>\n",
              "      <th>runtime</th>\n",
              "      <th>spoken_languages</th>\n",
              "      <th>status</th>\n",
              "      <th>tagline</th>\n",
              "      <th>title</th>\n",
              "      <th>video</th>\n",
              "      <th>vote_average</th>\n",
              "      <th>vote_count</th>\n",
              "    </tr>\n",
              "  </thead>\n",
              "  <tbody>\n",
              "    <tr>\n",
              "      <th>0</th>\n",
              "      <td>False</td>\n",
              "      <td>{'id': 10194, 'name': 'Toy Story Collection', ...</td>\n",
              "      <td>30000000</td>\n",
              "      <td>[{'id': 16, 'name': 'Animation'}, {'id': 35, '...</td>\n",
              "      <td>http://toystory.disney.com/toy-story</td>\n",
              "      <td>862</td>\n",
              "      <td>tt0114709</td>\n",
              "      <td>en</td>\n",
              "      <td>Toy Story</td>\n",
              "      <td>Led by Woody, Andy's toys live happily in his ...</td>\n",
              "      <td>...</td>\n",
              "      <td>1995-10-30</td>\n",
              "      <td>373554033.0</td>\n",
              "      <td>81.0</td>\n",
              "      <td>[{'iso_639_1': 'en', 'name': 'English'}]</td>\n",
              "      <td>Released</td>\n",
              "      <td>NaN</td>\n",
              "      <td>Toy Story</td>\n",
              "      <td>False</td>\n",
              "      <td>7.7</td>\n",
              "      <td>5415.0</td>\n",
              "    </tr>\n",
              "    <tr>\n",
              "      <th>1</th>\n",
              "      <td>False</td>\n",
              "      <td>NaN</td>\n",
              "      <td>65000000</td>\n",
              "      <td>[{'id': 12, 'name': 'Adventure'}, {'id': 14, '...</td>\n",
              "      <td>NaN</td>\n",
              "      <td>8844</td>\n",
              "      <td>tt0113497</td>\n",
              "      <td>en</td>\n",
              "      <td>Jumanji</td>\n",
              "      <td>When siblings Judy and Peter discover an encha...</td>\n",
              "      <td>...</td>\n",
              "      <td>1995-12-15</td>\n",
              "      <td>262797249.0</td>\n",
              "      <td>104.0</td>\n",
              "      <td>[{'iso_639_1': 'en', 'name': 'English'}, {'iso...</td>\n",
              "      <td>Released</td>\n",
              "      <td>Roll the dice and unleash the excitement!</td>\n",
              "      <td>Jumanji</td>\n",
              "      <td>False</td>\n",
              "      <td>6.9</td>\n",
              "      <td>2413.0</td>\n",
              "    </tr>\n",
              "    <tr>\n",
              "      <th>2</th>\n",
              "      <td>False</td>\n",
              "      <td>{'id': 119050, 'name': 'Grumpy Old Men Collect...</td>\n",
              "      <td>0</td>\n",
              "      <td>[{'id': 10749, 'name': 'Romance'}, {'id': 35, ...</td>\n",
              "      <td>NaN</td>\n",
              "      <td>15602</td>\n",
              "      <td>tt0113228</td>\n",
              "      <td>en</td>\n",
              "      <td>Grumpier Old Men</td>\n",
              "      <td>A family wedding reignites the ancient feud be...</td>\n",
              "      <td>...</td>\n",
              "      <td>1995-12-22</td>\n",
              "      <td>0.0</td>\n",
              "      <td>101.0</td>\n",
              "      <td>[{'iso_639_1': 'en', 'name': 'English'}]</td>\n",
              "      <td>Released</td>\n",
              "      <td>Still Yelling. Still Fighting. Still Ready for...</td>\n",
              "      <td>Grumpier Old Men</td>\n",
              "      <td>False</td>\n",
              "      <td>6.5</td>\n",
              "      <td>92.0</td>\n",
              "    </tr>\n",
              "    <tr>\n",
              "      <th>3</th>\n",
              "      <td>False</td>\n",
              "      <td>NaN</td>\n",
              "      <td>16000000</td>\n",
              "      <td>[{'id': 35, 'name': 'Comedy'}, {'id': 18, 'nam...</td>\n",
              "      <td>NaN</td>\n",
              "      <td>31357</td>\n",
              "      <td>tt0114885</td>\n",
              "      <td>en</td>\n",
              "      <td>Waiting to Exhale</td>\n",
              "      <td>Cheated on, mistreated and stepped on, the wom...</td>\n",
              "      <td>...</td>\n",
              "      <td>1995-12-22</td>\n",
              "      <td>81452156.0</td>\n",
              "      <td>127.0</td>\n",
              "      <td>[{'iso_639_1': 'en', 'name': 'English'}]</td>\n",
              "      <td>Released</td>\n",
              "      <td>Friends are the people who let you be yourself...</td>\n",
              "      <td>Waiting to Exhale</td>\n",
              "      <td>False</td>\n",
              "      <td>6.1</td>\n",
              "      <td>34.0</td>\n",
              "    </tr>\n",
              "    <tr>\n",
              "      <th>4</th>\n",
              "      <td>False</td>\n",
              "      <td>{'id': 96871, 'name': 'Father of the Bride Col...</td>\n",
              "      <td>0</td>\n",
              "      <td>[{'id': 35, 'name': 'Comedy'}]</td>\n",
              "      <td>NaN</td>\n",
              "      <td>11862</td>\n",
              "      <td>tt0113041</td>\n",
              "      <td>en</td>\n",
              "      <td>Father of the Bride Part II</td>\n",
              "      <td>Just when George Banks has recovered from his ...</td>\n",
              "      <td>...</td>\n",
              "      <td>1995-02-10</td>\n",
              "      <td>76578911.0</td>\n",
              "      <td>106.0</td>\n",
              "      <td>[{'iso_639_1': 'en', 'name': 'English'}]</td>\n",
              "      <td>Released</td>\n",
              "      <td>Just When His World Is Back To Normal... He's ...</td>\n",
              "      <td>Father of the Bride Part II</td>\n",
              "      <td>False</td>\n",
              "      <td>5.7</td>\n",
              "      <td>173.0</td>\n",
              "    </tr>\n",
              "  </tbody>\n",
              "</table>\n",
              "<p>5 rows × 24 columns</p>\n",
              "</div>"
            ],
            "text/plain": [
              "   adult                              belongs_to_collection    budget  \\\n",
              "0  False  {'id': 10194, 'name': 'Toy Story Collection', ...  30000000   \n",
              "1  False                                                NaN  65000000   \n",
              "2  False  {'id': 119050, 'name': 'Grumpy Old Men Collect...         0   \n",
              "3  False                                                NaN  16000000   \n",
              "4  False  {'id': 96871, 'name': 'Father of the Bride Col...         0   \n",
              "\n",
              "                                              genres  \\\n",
              "0  [{'id': 16, 'name': 'Animation'}, {'id': 35, '...   \n",
              "1  [{'id': 12, 'name': 'Adventure'}, {'id': 14, '...   \n",
              "2  [{'id': 10749, 'name': 'Romance'}, {'id': 35, ...   \n",
              "3  [{'id': 35, 'name': 'Comedy'}, {'id': 18, 'nam...   \n",
              "4                     [{'id': 35, 'name': 'Comedy'}]   \n",
              "\n",
              "                               homepage     id    imdb_id original_language  \\\n",
              "0  http://toystory.disney.com/toy-story    862  tt0114709                en   \n",
              "1                                   NaN   8844  tt0113497                en   \n",
              "2                                   NaN  15602  tt0113228                en   \n",
              "3                                   NaN  31357  tt0114885                en   \n",
              "4                                   NaN  11862  tt0113041                en   \n",
              "\n",
              "                original_title  \\\n",
              "0                    Toy Story   \n",
              "1                      Jumanji   \n",
              "2             Grumpier Old Men   \n",
              "3            Waiting to Exhale   \n",
              "4  Father of the Bride Part II   \n",
              "\n",
              "                                            overview  ... release_date  \\\n",
              "0  Led by Woody, Andy's toys live happily in his ...  ...   1995-10-30   \n",
              "1  When siblings Judy and Peter discover an encha...  ...   1995-12-15   \n",
              "2  A family wedding reignites the ancient feud be...  ...   1995-12-22   \n",
              "3  Cheated on, mistreated and stepped on, the wom...  ...   1995-12-22   \n",
              "4  Just when George Banks has recovered from his ...  ...   1995-02-10   \n",
              "\n",
              "       revenue runtime                                   spoken_languages  \\\n",
              "0  373554033.0    81.0           [{'iso_639_1': 'en', 'name': 'English'}]   \n",
              "1  262797249.0   104.0  [{'iso_639_1': 'en', 'name': 'English'}, {'iso...   \n",
              "2          0.0   101.0           [{'iso_639_1': 'en', 'name': 'English'}]   \n",
              "3   81452156.0   127.0           [{'iso_639_1': 'en', 'name': 'English'}]   \n",
              "4   76578911.0   106.0           [{'iso_639_1': 'en', 'name': 'English'}]   \n",
              "\n",
              "     status                                            tagline  \\\n",
              "0  Released                                                NaN   \n",
              "1  Released          Roll the dice and unleash the excitement!   \n",
              "2  Released  Still Yelling. Still Fighting. Still Ready for...   \n",
              "3  Released  Friends are the people who let you be yourself...   \n",
              "4  Released  Just When His World Is Back To Normal... He's ...   \n",
              "\n",
              "                         title  video vote_average vote_count  \n",
              "0                    Toy Story  False          7.7     5415.0  \n",
              "1                      Jumanji  False          6.9     2413.0  \n",
              "2             Grumpier Old Men  False          6.5       92.0  \n",
              "3            Waiting to Exhale  False          6.1       34.0  \n",
              "4  Father of the Bride Part II  False          5.7      173.0  \n",
              "\n",
              "[5 rows x 24 columns]"
            ]
          },
          "execution_count": 8,
          "metadata": {},
          "output_type": "execute_result"
        }
      ],
      "source": [
        "meta.head()"
      ]
    },
    {
      "cell_type": "code",
      "execution_count": 9,
      "metadata": {
        "id": "AkY-qrnKy16A"
      },
      "outputs": [],
      "source": [
        "meta['release_date'] = pd.to_datetime(meta['release_date'], errors='coerce') #If ‘coerce’, then invalid parsing will be set as NaN, if ‘raise’, then invalid parsing will raise an exception, If ‘ignore’, then invalid parsing will return the input"
      ]
    },
    {
      "cell_type": "code",
      "execution_count": 10,
      "metadata": {
        "id": "-AEy4TOty13d"
      },
      "outputs": [],
      "source": [
        "#format the date\n",
        "meta['year'] = meta['release_date'].dt.year"
      ]
    },
    {
      "cell_type": "code",
      "execution_count": 11,
      "metadata": {
        "colab": {
          "base_uri": "https://localhost:8080/"
        },
        "collapsed": true,
        "id": "sCUFZRTqy10x",
        "outputId": "ff1b8c67-57ca-4845-f26e-a1ab11684362"
      },
      "outputs": [
        {
          "data": {
            "text/plain": [
              "1874.0       1\n",
              "1878.0       1\n",
              "1883.0       1\n",
              "1887.0       1\n",
              "1888.0       2\n",
              "          ... \n",
              "2015.0    1905\n",
              "2016.0    1604\n",
              "2017.0     532\n",
              "2018.0       5\n",
              "2020.0       1\n",
              "Name: year, Length: 135, dtype: int64"
            ]
          },
          "execution_count": 11,
          "metadata": {},
          "output_type": "execute_result"
        }
      ],
      "source": [
        "meta['year'].value_counts().sort_index()"
      ]
    },
    {
      "cell_type": "code",
      "execution_count": 12,
      "metadata": {
        "id": "ravRy-Opy1yf"
      },
      "outputs": [],
      "source": [
        "\n",
        "# Getting only 2017 ovies as I already have movies up to the year 2016 in data 1 processed file.\n",
        "# I don't have enough data for the movies from 2018, 2019 and 2020.\n",
        "# We'll deal with it in the upcoming preprocessing files\n",
        "new_meta = meta.loc[meta.year == 2017,['genres','id','title','year']]"
      ]
    },
    {
      "cell_type": "code",
      "execution_count": 13,
      "metadata": {
        "colab": {
          "base_uri": "https://localhost:8080/",
          "height": 424
        },
        "collapsed": true,
        "id": "Dmcmw9WWy1vh",
        "outputId": "78ca334c-e26b-488e-ec31-e46604d0f42f"
      },
      "outputs": [
        {
          "data": {
            "text/html": [
              "<div>\n",
              "<style scoped>\n",
              "    .dataframe tbody tr th:only-of-type {\n",
              "        vertical-align: middle;\n",
              "    }\n",
              "\n",
              "    .dataframe tbody tr th {\n",
              "        vertical-align: top;\n",
              "    }\n",
              "\n",
              "    .dataframe thead th {\n",
              "        text-align: right;\n",
              "    }\n",
              "</style>\n",
              "<table border=\"1\" class=\"dataframe\">\n",
              "  <thead>\n",
              "    <tr style=\"text-align: right;\">\n",
              "      <th></th>\n",
              "      <th>genres</th>\n",
              "      <th>id</th>\n",
              "      <th>title</th>\n",
              "      <th>year</th>\n",
              "    </tr>\n",
              "  </thead>\n",
              "  <tbody>\n",
              "    <tr>\n",
              "      <th>26560</th>\n",
              "      <td>[{'id': 12, 'name': 'Adventure'}, {'id': 28, '...</td>\n",
              "      <td>166426</td>\n",
              "      <td>Pirates of the Caribbean: Dead Men Tell No Tales</td>\n",
              "      <td>2017.0</td>\n",
              "    </tr>\n",
              "    <tr>\n",
              "      <th>26561</th>\n",
              "      <td>[{'id': 28, 'name': 'Action'}, {'id': 12, 'nam...</td>\n",
              "      <td>141052</td>\n",
              "      <td>Justice League</td>\n",
              "      <td>2017.0</td>\n",
              "    </tr>\n",
              "    <tr>\n",
              "      <th>26565</th>\n",
              "      <td>[{'id': 28, 'name': 'Action'}, {'id': 12, 'nam...</td>\n",
              "      <td>284053</td>\n",
              "      <td>Thor: Ragnarok</td>\n",
              "      <td>2017.0</td>\n",
              "    </tr>\n",
              "    <tr>\n",
              "      <th>26566</th>\n",
              "      <td>[{'id': 28, 'name': 'Action'}, {'id': 12, 'nam...</td>\n",
              "      <td>283995</td>\n",
              "      <td>Guardians of the Galaxy Vol. 2</td>\n",
              "      <td>2017.0</td>\n",
              "    </tr>\n",
              "    <tr>\n",
              "      <th>30536</th>\n",
              "      <td>[{'id': 14, 'name': 'Fantasy'}, {'id': 28, 'na...</td>\n",
              "      <td>245842</td>\n",
              "      <td>The King's Daughter</td>\n",
              "      <td>2017.0</td>\n",
              "    </tr>\n",
              "  </tbody>\n",
              "</table>\n",
              "</div>"
            ],
            "text/plain": [
              "                                                  genres      id  \\\n",
              "26560  [{'id': 12, 'name': 'Adventure'}, {'id': 28, '...  166426   \n",
              "26561  [{'id': 28, 'name': 'Action'}, {'id': 12, 'nam...  141052   \n",
              "26565  [{'id': 28, 'name': 'Action'}, {'id': 12, 'nam...  284053   \n",
              "26566  [{'id': 28, 'name': 'Action'}, {'id': 12, 'nam...  283995   \n",
              "30536  [{'id': 14, 'name': 'Fantasy'}, {'id': 28, 'na...  245842   \n",
              "\n",
              "                                                  title    year  \n",
              "26560  Pirates of the Caribbean: Dead Men Tell No Tales  2017.0  \n",
              "26561                                    Justice League  2017.0  \n",
              "26565                                    Thor: Ragnarok  2017.0  \n",
              "26566                    Guardians of the Galaxy Vol. 2  2017.0  \n",
              "30536                               The King's Daughter  2017.0  "
            ]
          },
          "execution_count": 13,
          "metadata": {},
          "output_type": "execute_result"
        }
      ],
      "source": [
        "new_meta.head()"
      ]
    },
    {
      "cell_type": "code",
      "execution_count": 14,
      "metadata": {
        "colab": {
          "base_uri": "https://localhost:8080/"
        },
        "id": "XoDw5BgOu4EL",
        "outputId": "b7eec2fb-9831-4ff8-f222-85bff07ee8fb"
      },
      "outputs": [
        {
          "data": {
            "text/plain": [
              "genres     object\n",
              "id         object\n",
              "title      object\n",
              "year      float64\n",
              "dtype: object"
            ]
          },
          "execution_count": 14,
          "metadata": {},
          "output_type": "execute_result"
        }
      ],
      "source": [
        "new_meta.dtypes"
      ]
    },
    {
      "cell_type": "code",
      "execution_count": 15,
      "metadata": {
        "id": "K078csVIy1sk"
      },
      "outputs": [],
      "source": [
        "#converting the \"id\" to integer\n",
        "new_meta['id'] = new_meta['id'].astype(int)"
      ]
    },
    {
      "cell_type": "code",
      "execution_count": 16,
      "metadata": {
        "id": "l8G7aOwRy1oL"
      },
      "outputs": [],
      "source": [
        "#add the new_meta data to the credit data. They all have \"id\" so I can merge on that.\n",
        "data = pd.merge(new_meta, credits, on='id')"
      ]
    },
    {
      "cell_type": "code",
      "execution_count": 17,
      "metadata": {
        "colab": {
          "base_uri": "https://localhost:8080/",
          "height": 815
        },
        "collapsed": true,
        "id": "jtoWVRzw0Lvm",
        "outputId": "68b443da-fc82-468c-acc5-bc2f11277ff9"
      },
      "outputs": [
        {
          "data": {
            "text/html": [
              "<div>\n",
              "<style scoped>\n",
              "    .dataframe tbody tr th:only-of-type {\n",
              "        vertical-align: middle;\n",
              "    }\n",
              "\n",
              "    .dataframe tbody tr th {\n",
              "        vertical-align: top;\n",
              "    }\n",
              "\n",
              "    .dataframe thead th {\n",
              "        text-align: right;\n",
              "    }\n",
              "</style>\n",
              "<table border=\"1\" class=\"dataframe\">\n",
              "  <thead>\n",
              "    <tr style=\"text-align: right;\">\n",
              "      <th></th>\n",
              "      <th>genres</th>\n",
              "      <th>id</th>\n",
              "      <th>title</th>\n",
              "      <th>year</th>\n",
              "      <th>cast</th>\n",
              "      <th>crew</th>\n",
              "    </tr>\n",
              "  </thead>\n",
              "  <tbody>\n",
              "    <tr>\n",
              "      <th>0</th>\n",
              "      <td>[{'id': 12, 'name': 'Adventure'}, {'id': 28, 'name': 'Action'}, {'id': ...</td>\n",
              "      <td>166426</td>\n",
              "      <td>Pirates of the Caribbean: Dead Men Tell No Tales</td>\n",
              "      <td>2017.0</td>\n",
              "      <td>[{'cast_id': 1, 'character': 'Captain Jack Sparrow', 'credit_id': '52fe...</td>\n",
              "      <td>[{'credit_id': '52fe4c9cc3a36847f8236a65', 'department': 'Production', ...</td>\n",
              "    </tr>\n",
              "    <tr>\n",
              "      <th>1</th>\n",
              "      <td>[{'id': 28, 'name': 'Action'}, {'id': 12, 'name': 'Adventure'}, {'id': ...</td>\n",
              "      <td>141052</td>\n",
              "      <td>Justice League</td>\n",
              "      <td>2017.0</td>\n",
              "      <td>[{'cast_id': 2, 'character': 'Bruce Wayne / Batman', 'credit_id': '535e...</td>\n",
              "      <td>[{'credit_id': '55ef66dbc3a3686f1700a52d', 'department': 'Production', ...</td>\n",
              "    </tr>\n",
              "    <tr>\n",
              "      <th>2</th>\n",
              "      <td>[{'id': 28, 'name': 'Action'}, {'id': 12, 'name': 'Adventure'}, {'id': ...</td>\n",
              "      <td>284053</td>\n",
              "      <td>Thor: Ragnarok</td>\n",
              "      <td>2017.0</td>\n",
              "      <td>[{'cast_id': 0, 'character': 'Thor Odinson', 'credit_id': '545d46a80e0a...</td>\n",
              "      <td>[{'credit_id': '56a93fa4c3a36872db001e7a', 'department': 'Writing', 'ge...</td>\n",
              "    </tr>\n",
              "    <tr>\n",
              "      <th>3</th>\n",
              "      <td>[{'id': 28, 'name': 'Action'}, {'id': 12, 'name': 'Adventure'}, {'id': ...</td>\n",
              "      <td>283995</td>\n",
              "      <td>Guardians of the Galaxy Vol. 2</td>\n",
              "      <td>2017.0</td>\n",
              "      <td>[{'cast_id': 3, 'character': 'Peter Quill / Star-Lord', 'credit_id': '5...</td>\n",
              "      <td>[{'credit_id': '59171547925141583c0315a6', 'department': 'Sound', 'gend...</td>\n",
              "    </tr>\n",
              "    <tr>\n",
              "      <th>4</th>\n",
              "      <td>[{'id': 14, 'name': 'Fantasy'}, {'id': 28, 'name': 'Action'}, {'id': 12...</td>\n",
              "      <td>245842</td>\n",
              "      <td>The King's Daughter</td>\n",
              "      <td>2017.0</td>\n",
              "      <td>[{'cast_id': 0, 'character': 'King Louis XIV', 'credit_id': '5431dd580e...</td>\n",
              "      <td>[{'credit_id': '5431de49c3a36825d300007e', 'department': 'Directing', '...</td>\n",
              "    </tr>\n",
              "    <tr>\n",
              "      <th>...</th>\n",
              "      <td>...</td>\n",
              "      <td>...</td>\n",
              "      <td>...</td>\n",
              "      <td>...</td>\n",
              "      <td>...</td>\n",
              "      <td>...</td>\n",
              "    </tr>\n",
              "    <tr>\n",
              "      <th>526</th>\n",
              "      <td>[{'id': 10749, 'name': 'Romance'}, {'id': 35, 'name': 'Comedy'}]</td>\n",
              "      <td>468707</td>\n",
              "      <td>Thick Lashes of Lauri Mäntyvaara</td>\n",
              "      <td>2017.0</td>\n",
              "      <td>[{'cast_id': 0, 'character': 'Satu', 'credit_id': '597e2086c3a368544001...</td>\n",
              "      <td>[{'credit_id': '597e22f69251415d7801c74a', 'department': 'Directing', '...</td>\n",
              "    </tr>\n",
              "    <tr>\n",
              "      <th>527</th>\n",
              "      <td>[{'id': 80, 'name': 'Crime'}, {'id': 35, 'name': 'Comedy'}, {'id': 28, ...</td>\n",
              "      <td>461297</td>\n",
              "      <td>Cop and a Half: New Recruit</td>\n",
              "      <td>2017.0</td>\n",
              "      <td>[{'cast_id': 0, 'character': 'Detective Simmons', 'credit_id': '593ba04...</td>\n",
              "      <td>[{'credit_id': '593ba0c29251410593009be3', 'department': 'Writing', 'ge...</td>\n",
              "    </tr>\n",
              "    <tr>\n",
              "      <th>528</th>\n",
              "      <td>[{'id': 10751, 'name': 'Family'}, {'id': 16, 'name': 'Animation'}, {'id...</td>\n",
              "      <td>455661</td>\n",
              "      <td>In a Heartbeat</td>\n",
              "      <td>2017.0</td>\n",
              "      <td>[]</td>\n",
              "      <td>[{'credit_id': '5981a15c92514151e0011b51', 'department': 'Sound', 'gend...</td>\n",
              "    </tr>\n",
              "    <tr>\n",
              "      <th>529</th>\n",
              "      <td>[{'id': 80, 'name': 'Crime'}, {'id': 18, 'name': 'Drama'}, {'id': 53, '...</td>\n",
              "      <td>404604</td>\n",
              "      <td>Mom</td>\n",
              "      <td>2017.0</td>\n",
              "      <td>[{'cast_id': 1, 'character': 'Devki Sabarwal', 'credit_id': '577809adc3...</td>\n",
              "      <td>[{'credit_id': '58ee55bbc3a3683df500bd0f', 'department': 'Sound', 'gend...</td>\n",
              "    </tr>\n",
              "    <tr>\n",
              "      <th>530</th>\n",
              "      <td>[]</td>\n",
              "      <td>461257</td>\n",
              "      <td>Queerama</td>\n",
              "      <td>2017.0</td>\n",
              "      <td>[]</td>\n",
              "      <td>[{'credit_id': '593e676c92514105b702e68e', 'department': 'Directing', '...</td>\n",
              "    </tr>\n",
              "  </tbody>\n",
              "</table>\n",
              "<p>531 rows × 6 columns</p>\n",
              "</div>"
            ],
            "text/plain": [
              "                                                                         genres  \\\n",
              "0    [{'id': 12, 'name': 'Adventure'}, {'id': 28, 'name': 'Action'}, {'id': ...   \n",
              "1    [{'id': 28, 'name': 'Action'}, {'id': 12, 'name': 'Adventure'}, {'id': ...   \n",
              "2    [{'id': 28, 'name': 'Action'}, {'id': 12, 'name': 'Adventure'}, {'id': ...   \n",
              "3    [{'id': 28, 'name': 'Action'}, {'id': 12, 'name': 'Adventure'}, {'id': ...   \n",
              "4    [{'id': 14, 'name': 'Fantasy'}, {'id': 28, 'name': 'Action'}, {'id': 12...   \n",
              "..                                                                          ...   \n",
              "526            [{'id': 10749, 'name': 'Romance'}, {'id': 35, 'name': 'Comedy'}]   \n",
              "527  [{'id': 80, 'name': 'Crime'}, {'id': 35, 'name': 'Comedy'}, {'id': 28, ...   \n",
              "528  [{'id': 10751, 'name': 'Family'}, {'id': 16, 'name': 'Animation'}, {'id...   \n",
              "529  [{'id': 80, 'name': 'Crime'}, {'id': 18, 'name': 'Drama'}, {'id': 53, '...   \n",
              "530                                                                          []   \n",
              "\n",
              "         id                                             title    year  \\\n",
              "0    166426  Pirates of the Caribbean: Dead Men Tell No Tales  2017.0   \n",
              "1    141052                                    Justice League  2017.0   \n",
              "2    284053                                    Thor: Ragnarok  2017.0   \n",
              "3    283995                    Guardians of the Galaxy Vol. 2  2017.0   \n",
              "4    245842                               The King's Daughter  2017.0   \n",
              "..      ...                                               ...     ...   \n",
              "526  468707                  Thick Lashes of Lauri Mäntyvaara  2017.0   \n",
              "527  461297                       Cop and a Half: New Recruit  2017.0   \n",
              "528  455661                                    In a Heartbeat  2017.0   \n",
              "529  404604                                               Mom  2017.0   \n",
              "530  461257                                          Queerama  2017.0   \n",
              "\n",
              "                                                                           cast  \\\n",
              "0    [{'cast_id': 1, 'character': 'Captain Jack Sparrow', 'credit_id': '52fe...   \n",
              "1    [{'cast_id': 2, 'character': 'Bruce Wayne / Batman', 'credit_id': '535e...   \n",
              "2    [{'cast_id': 0, 'character': 'Thor Odinson', 'credit_id': '545d46a80e0a...   \n",
              "3    [{'cast_id': 3, 'character': 'Peter Quill / Star-Lord', 'credit_id': '5...   \n",
              "4    [{'cast_id': 0, 'character': 'King Louis XIV', 'credit_id': '5431dd580e...   \n",
              "..                                                                          ...   \n",
              "526  [{'cast_id': 0, 'character': 'Satu', 'credit_id': '597e2086c3a368544001...   \n",
              "527  [{'cast_id': 0, 'character': 'Detective Simmons', 'credit_id': '593ba04...   \n",
              "528                                                                          []   \n",
              "529  [{'cast_id': 1, 'character': 'Devki Sabarwal', 'credit_id': '577809adc3...   \n",
              "530                                                                          []   \n",
              "\n",
              "                                                                           crew  \n",
              "0    [{'credit_id': '52fe4c9cc3a36847f8236a65', 'department': 'Production', ...  \n",
              "1    [{'credit_id': '55ef66dbc3a3686f1700a52d', 'department': 'Production', ...  \n",
              "2    [{'credit_id': '56a93fa4c3a36872db001e7a', 'department': 'Writing', 'ge...  \n",
              "3    [{'credit_id': '59171547925141583c0315a6', 'department': 'Sound', 'gend...  \n",
              "4    [{'credit_id': '5431de49c3a36825d300007e', 'department': 'Directing', '...  \n",
              "..                                                                          ...  \n",
              "526  [{'credit_id': '597e22f69251415d7801c74a', 'department': 'Directing', '...  \n",
              "527  [{'credit_id': '593ba0c29251410593009be3', 'department': 'Writing', 'ge...  \n",
              "528  [{'credit_id': '5981a15c92514151e0011b51', 'department': 'Sound', 'gend...  \n",
              "529  [{'credit_id': '58ee55bbc3a3683df500bd0f', 'department': 'Sound', 'gend...  \n",
              "530  [{'credit_id': '593e676c92514105b702e68e', 'department': 'Directing', '...  \n",
              "\n",
              "[531 rows x 6 columns]"
            ]
          },
          "execution_count": 17,
          "metadata": {},
          "output_type": "execute_result"
        }
      ],
      "source": [
        "pd.set_option('display.max_colwidth', 75)\n",
        "data"
      ]
    },
    {
      "cell_type": "code",
      "execution_count": 18,
      "metadata": {
        "id": "IQLy1Acy0Lsk"
      },
      "outputs": [],
      "source": [
        "# I will convert the \"genre\", \"cast\" and \"crew\" column into a list. if we observe it carefully, we will realised that it's a list containing dictionary.\n",
        "import ast\n",
        "data['genres'] = data['genres'].map(lambda x: ast.literal_eval(x))  #the \"literal_eval\" helps to convert the string into a list\n",
        "data['cast'] = data['cast'].map(lambda x: ast.literal_eval(x))\n",
        "data['crew'] = data['crew'].map(lambda x: ast.literal_eval(x))"
      ]
    },
    {
      "attachments": {},
      "cell_type": "markdown",
      "metadata": {
        "id": "9kXUb5Fa5ojh"
      },
      "source": [
        "**Genres**"
      ]
    },
    {
      "cell_type": "code",
      "execution_count": 19,
      "metadata": {
        "id": "4BwRfrvw0LqC"
      },
      "outputs": [],
      "source": [
        "#Now I will have to take out the individual genres like adventure, action, sci-fi, etc. using the following function\n",
        "\n",
        "\n",
        "def make_genresList(x):\n",
        "    gen = []\n",
        "    st = \" \"\n",
        "    for i in x:\n",
        "        if i.get('name') == 'Science Fiction': #am only renaming the \"Science Fiction\" to \"Sci-Fi\" to make it the name shorter. Apart from that all other names remain the same.\n",
        "            scifi = 'Sci-Fi'\n",
        "            gen.append(scifi)\n",
        "        else:\n",
        "            gen.append(i.get('name'))\n",
        "    if gen == []:\n",
        "        return np.NaN\n",
        "    else:\n",
        "        return (st.join(gen)) #then we will join them together and return the valuse"
      ]
    },
    {
      "cell_type": "code",
      "execution_count": 20,
      "metadata": {
        "id": "cQjzcE-80Lm0"
      },
      "outputs": [],
      "source": [
        "\n",
        "#now let's apply the function on the genre column\n",
        "\n",
        "data['genres_list'] = data['genres'].map(lambda x: make_genresList(x))"
      ]
    },
    {
      "cell_type": "code",
      "execution_count": 21,
      "metadata": {
        "colab": {
          "base_uri": "https://localhost:8080/"
        },
        "collapsed": true,
        "id": "YOy5eKNg0LkA",
        "outputId": "e0419f25-36d5-4fba-c9c9-1425face03ec"
      },
      "outputs": [
        {
          "data": {
            "text/plain": [
              "0      Adventure Action Fantasy Comedy\n",
              "1      Action Adventure Fantasy Sci-Fi\n",
              "2      Action Adventure Fantasy Sci-Fi\n",
              "3       Action Adventure Comedy Sci-Fi\n",
              "4             Fantasy Action Adventure\n",
              "                    ...               \n",
              "526                     Romance Comedy\n",
              "527         Crime Comedy Action Family\n",
              "528    Family Animation Romance Comedy\n",
              "529               Crime Drama Thriller\n",
              "530                                NaN\n",
              "Name: genres_list, Length: 531, dtype: object"
            ]
          },
          "execution_count": 21,
          "metadata": {},
          "output_type": "execute_result"
        }
      ],
      "source": [
        "\n",
        "data['genres_list']"
      ]
    },
    {
      "attachments": {},
      "cell_type": "markdown",
      "metadata": {
        "id": "jrUpfbZj5Rkh"
      },
      "source": [
        "**Actor 1**"
      ]
    },
    {
      "cell_type": "code",
      "execution_count": 22,
      "metadata": {
        "id": "uqDnA7TY0LhA"
      },
      "outputs": [],
      "source": [
        "\n",
        "#let's do the same for cast\n",
        "\n",
        "def get_actor1(x):\n",
        "    casts = []\n",
        "    for i in x:\n",
        "        casts.append(i.get('name'))\n",
        "    if casts == []:\n",
        "        return np.NaN\n",
        "    else:\n",
        "        return (casts[0])"
      ]
    },
    {
      "cell_type": "code",
      "execution_count": 23,
      "metadata": {
        "id": "1QG5czvj0Ldz"
      },
      "outputs": [],
      "source": [
        "\n",
        "#let's apply it on the cast column for the first actor\n",
        "\n",
        "data['actor_1_name'] = data['cast'].map(lambda x: get_actor1(x))"
      ]
    },
    {
      "attachments": {},
      "cell_type": "markdown",
      "metadata": {
        "id": "3G4HjLzO5XHC"
      },
      "source": [
        "**Actor 2**"
      ]
    },
    {
      "cell_type": "code",
      "execution_count": 24,
      "metadata": {
        "id": "ABBSwVPI0La0"
      },
      "outputs": [],
      "source": [
        "\n",
        "def get_actor2(x):\n",
        "    casts = []\n",
        "    for i in x:\n",
        "        casts.append(i.get('name'))\n",
        "    if casts == [] or len(casts)<=1:\n",
        "        return np.NaN\n",
        "    else:\n",
        "        return (casts[1])"
      ]
    },
    {
      "cell_type": "code",
      "execution_count": 25,
      "metadata": {
        "id": "-xBj3GxF0LWP"
      },
      "outputs": [],
      "source": [
        "\n",
        "#let's apply it on the cast column for the second actor\n",
        "data['actor_2_name'] = data['cast'].map(lambda x: get_actor2(x))"
      ]
    },
    {
      "cell_type": "code",
      "execution_count": 26,
      "metadata": {
        "colab": {
          "base_uri": "https://localhost:8080/"
        },
        "collapsed": true,
        "id": "FGCYmx3d5Mvs",
        "outputId": "54f35625-704f-4486-e1a4-43150c8e3ac8"
      },
      "outputs": [
        {
          "data": {
            "text/plain": [
              "0       Javier Bardem\n",
              "1        Henry Cavill\n",
              "2      Tom Hiddleston\n",
              "3         Zoe Saldana\n",
              "4        William Hurt\n",
              "            ...      \n",
              "526     Rosa Honkonen\n",
              "527     Wallace Shawn\n",
              "528               NaN\n",
              "529         Sajal Ali\n",
              "530               NaN\n",
              "Name: actor_2_name, Length: 531, dtype: object"
            ]
          },
          "execution_count": 26,
          "metadata": {},
          "output_type": "execute_result"
        }
      ],
      "source": [
        "\n",
        "data['actor_2_name']"
      ]
    },
    {
      "attachments": {},
      "cell_type": "markdown",
      "metadata": {
        "id": "Vbjx1pgo5ZxZ"
      },
      "source": [
        "**Actor 3**"
      ]
    },
    {
      "cell_type": "code",
      "execution_count": 27,
      "metadata": {
        "id": "L2o_fY775MtU"
      },
      "outputs": [],
      "source": [
        "\n",
        "def get_actor3(x):\n",
        "    casts = []\n",
        "    for i in x:\n",
        "        casts.append(i.get('name'))\n",
        "    if casts == [] or len(casts)<=2:\n",
        "        return np.NaN\n",
        "    else:\n",
        "        return (casts[2])"
      ]
    },
    {
      "cell_type": "code",
      "execution_count": 28,
      "metadata": {
        "id": "7cWCvizt5MqN"
      },
      "outputs": [],
      "source": [
        "\n",
        "data['actor_3_name'] = data['cast'].map(lambda x: get_actor3(x))"
      ]
    },
    {
      "cell_type": "code",
      "execution_count": 29,
      "metadata": {
        "colab": {
          "base_uri": "https://localhost:8080/"
        },
        "collapsed": true,
        "id": "O-4TW1os5MmU",
        "outputId": "53b880e8-f0fe-455b-de46-c817a43c84bb"
      },
      "outputs": [
        {
          "data": {
            "text/plain": [
              "0        Geoffrey Rush\n",
              "1            Gal Gadot\n",
              "2       Cate Blanchett\n",
              "3        Dave Bautista\n",
              "4      Benjamin Walker\n",
              "            ...       \n",
              "526     Tiitus Rantala\n",
              "527        Gina Holden\n",
              "528                NaN\n",
              "529     Akshaye Khanna\n",
              "530                NaN\n",
              "Name: actor_3_name, Length: 531, dtype: object"
            ]
          },
          "execution_count": 29,
          "metadata": {},
          "output_type": "execute_result"
        }
      ],
      "source": [
        "\n",
        "data['actor_3_name']"
      ]
    },
    {
      "attachments": {},
      "cell_type": "markdown",
      "metadata": {
        "id": "TREyRX545hyF"
      },
      "source": [
        "**Directors**"
      ]
    },
    {
      "cell_type": "code",
      "execution_count": 30,
      "metadata": {
        "id": "y_p1atK75Mi9"
      },
      "outputs": [],
      "source": [
        "def get_directors(x):\n",
        "    dt = []\n",
        "    st = \" \"\n",
        "    for i in x:\n",
        "        if i.get('job') == 'Director':\n",
        "            dt.append(i.get('name'))\n",
        "    if dt == []:\n",
        "        return np.NaN\n",
        "    else:\n",
        "        return (st.join(dt))"
      ]
    },
    {
      "cell_type": "code",
      "execution_count": 31,
      "metadata": {
        "id": "4_gOHajI5Mf_"
      },
      "outputs": [],
      "source": [
        "\n",
        "data['director_name'] = data['crew'].map(lambda x: get_directors(x))"
      ]
    },
    {
      "cell_type": "code",
      "execution_count": 32,
      "metadata": {
        "colab": {
          "base_uri": "https://localhost:8080/"
        },
        "collapsed": true,
        "id": "zdhNNBm45Mc7",
        "outputId": "f09a7047-ade4-4d23-b177-eab308a0c3f6"
      },
      "outputs": [
        {
          "data": {
            "text/plain": [
              "0      Joachim Rønning Espen Sandberg\n",
              "1                         Zack Snyder\n",
              "2                       Taika Waititi\n",
              "3                          James Gunn\n",
              "4                       Sean McNamara\n",
              "                    ...              \n",
              "526                  Hannaleena Hauru\n",
              "527             Jonathan A. Rosenbaum\n",
              "528          Beth David Esteban Bravo\n",
              "529                      Ravi Udyawar\n",
              "530                     Daisy Asquith\n",
              "Name: director_name, Length: 531, dtype: object"
            ]
          },
          "execution_count": 32,
          "metadata": {},
          "output_type": "execute_result"
        }
      ],
      "source": [
        "\n",
        "data['director_name']"
      ]
    },
    {
      "cell_type": "code",
      "execution_count": 33,
      "metadata": {
        "colab": {
          "base_uri": "https://localhost:8080/",
          "height": 607
        },
        "collapsed": true,
        "id": "ZPqDMWUD50J-",
        "outputId": "122763e2-ed6b-4ca3-89e1-69175a6424b1"
      },
      "outputs": [
        {
          "data": {
            "text/html": [
              "<div>\n",
              "<style scoped>\n",
              "    .dataframe tbody tr th:only-of-type {\n",
              "        vertical-align: middle;\n",
              "    }\n",
              "\n",
              "    .dataframe tbody tr th {\n",
              "        vertical-align: top;\n",
              "    }\n",
              "\n",
              "    .dataframe thead th {\n",
              "        text-align: right;\n",
              "    }\n",
              "</style>\n",
              "<table border=\"1\" class=\"dataframe\">\n",
              "  <thead>\n",
              "    <tr style=\"text-align: right;\">\n",
              "      <th></th>\n",
              "      <th>director_name</th>\n",
              "      <th>actor_1_name</th>\n",
              "      <th>actor_2_name</th>\n",
              "      <th>actor_3_name</th>\n",
              "      <th>genres_list</th>\n",
              "      <th>title</th>\n",
              "    </tr>\n",
              "  </thead>\n",
              "  <tbody>\n",
              "    <tr>\n",
              "      <th>0</th>\n",
              "      <td>Joachim Rønning Espen Sandberg</td>\n",
              "      <td>Johnny Depp</td>\n",
              "      <td>Javier Bardem</td>\n",
              "      <td>Geoffrey Rush</td>\n",
              "      <td>Adventure Action Fantasy Comedy</td>\n",
              "      <td>Pirates of the Caribbean: Dead Men Tell No Tales</td>\n",
              "    </tr>\n",
              "    <tr>\n",
              "      <th>1</th>\n",
              "      <td>Zack Snyder</td>\n",
              "      <td>Ben Affleck</td>\n",
              "      <td>Henry Cavill</td>\n",
              "      <td>Gal Gadot</td>\n",
              "      <td>Action Adventure Fantasy Sci-Fi</td>\n",
              "      <td>Justice League</td>\n",
              "    </tr>\n",
              "    <tr>\n",
              "      <th>2</th>\n",
              "      <td>Taika Waititi</td>\n",
              "      <td>Chris Hemsworth</td>\n",
              "      <td>Tom Hiddleston</td>\n",
              "      <td>Cate Blanchett</td>\n",
              "      <td>Action Adventure Fantasy Sci-Fi</td>\n",
              "      <td>Thor: Ragnarok</td>\n",
              "    </tr>\n",
              "    <tr>\n",
              "      <th>3</th>\n",
              "      <td>James Gunn</td>\n",
              "      <td>Chris Pratt</td>\n",
              "      <td>Zoe Saldana</td>\n",
              "      <td>Dave Bautista</td>\n",
              "      <td>Action Adventure Comedy Sci-Fi</td>\n",
              "      <td>Guardians of the Galaxy Vol. 2</td>\n",
              "    </tr>\n",
              "    <tr>\n",
              "      <th>4</th>\n",
              "      <td>Sean McNamara</td>\n",
              "      <td>Pierce Brosnan</td>\n",
              "      <td>William Hurt</td>\n",
              "      <td>Benjamin Walker</td>\n",
              "      <td>Fantasy Action Adventure</td>\n",
              "      <td>The King's Daughter</td>\n",
              "    </tr>\n",
              "    <tr>\n",
              "      <th>...</th>\n",
              "      <td>...</td>\n",
              "      <td>...</td>\n",
              "      <td>...</td>\n",
              "      <td>...</td>\n",
              "      <td>...</td>\n",
              "      <td>...</td>\n",
              "    </tr>\n",
              "    <tr>\n",
              "      <th>526</th>\n",
              "      <td>Hannaleena Hauru</td>\n",
              "      <td>Inka Haapamäki</td>\n",
              "      <td>Rosa Honkonen</td>\n",
              "      <td>Tiitus Rantala</td>\n",
              "      <td>Romance Comedy</td>\n",
              "      <td>Thick Lashes of Lauri Mäntyvaara</td>\n",
              "    </tr>\n",
              "    <tr>\n",
              "      <th>527</th>\n",
              "      <td>Jonathan A. Rosenbaum</td>\n",
              "      <td>Lou Diamond Phillips</td>\n",
              "      <td>Wallace Shawn</td>\n",
              "      <td>Gina Holden</td>\n",
              "      <td>Crime Comedy Action Family</td>\n",
              "      <td>Cop and a Half: New Recruit</td>\n",
              "    </tr>\n",
              "    <tr>\n",
              "      <th>528</th>\n",
              "      <td>Beth David Esteban Bravo</td>\n",
              "      <td>NaN</td>\n",
              "      <td>NaN</td>\n",
              "      <td>NaN</td>\n",
              "      <td>Family Animation Romance Comedy</td>\n",
              "      <td>In a Heartbeat</td>\n",
              "    </tr>\n",
              "    <tr>\n",
              "      <th>529</th>\n",
              "      <td>Ravi Udyawar</td>\n",
              "      <td>Sridevi Kapoor</td>\n",
              "      <td>Sajal Ali</td>\n",
              "      <td>Akshaye Khanna</td>\n",
              "      <td>Crime Drama Thriller</td>\n",
              "      <td>Mom</td>\n",
              "    </tr>\n",
              "    <tr>\n",
              "      <th>530</th>\n",
              "      <td>Daisy Asquith</td>\n",
              "      <td>NaN</td>\n",
              "      <td>NaN</td>\n",
              "      <td>NaN</td>\n",
              "      <td>NaN</td>\n",
              "      <td>Queerama</td>\n",
              "    </tr>\n",
              "  </tbody>\n",
              "</table>\n",
              "<p>531 rows × 6 columns</p>\n",
              "</div>"
            ],
            "text/plain": [
              "                      director_name          actor_1_name    actor_2_name  \\\n",
              "0    Joachim Rønning Espen Sandberg           Johnny Depp   Javier Bardem   \n",
              "1                       Zack Snyder           Ben Affleck    Henry Cavill   \n",
              "2                     Taika Waititi       Chris Hemsworth  Tom Hiddleston   \n",
              "3                        James Gunn           Chris Pratt     Zoe Saldana   \n",
              "4                     Sean McNamara        Pierce Brosnan    William Hurt   \n",
              "..                              ...                   ...             ...   \n",
              "526                Hannaleena Hauru        Inka Haapamäki   Rosa Honkonen   \n",
              "527           Jonathan A. Rosenbaum  Lou Diamond Phillips   Wallace Shawn   \n",
              "528        Beth David Esteban Bravo                   NaN             NaN   \n",
              "529                    Ravi Udyawar        Sridevi Kapoor       Sajal Ali   \n",
              "530                   Daisy Asquith                   NaN             NaN   \n",
              "\n",
              "        actor_3_name                      genres_list  \\\n",
              "0      Geoffrey Rush  Adventure Action Fantasy Comedy   \n",
              "1          Gal Gadot  Action Adventure Fantasy Sci-Fi   \n",
              "2     Cate Blanchett  Action Adventure Fantasy Sci-Fi   \n",
              "3      Dave Bautista   Action Adventure Comedy Sci-Fi   \n",
              "4    Benjamin Walker         Fantasy Action Adventure   \n",
              "..               ...                              ...   \n",
              "526   Tiitus Rantala                   Romance Comedy   \n",
              "527      Gina Holden       Crime Comedy Action Family   \n",
              "528              NaN  Family Animation Romance Comedy   \n",
              "529   Akshaye Khanna             Crime Drama Thriller   \n",
              "530              NaN                              NaN   \n",
              "\n",
              "                                                title  \n",
              "0    Pirates of the Caribbean: Dead Men Tell No Tales  \n",
              "1                                      Justice League  \n",
              "2                                      Thor: Ragnarok  \n",
              "3                      Guardians of the Galaxy Vol. 2  \n",
              "4                                 The King's Daughter  \n",
              "..                                                ...  \n",
              "526                  Thick Lashes of Lauri Mäntyvaara  \n",
              "527                       Cop and a Half: New Recruit  \n",
              "528                                    In a Heartbeat  \n",
              "529                                               Mom  \n",
              "530                                          Queerama  \n",
              "\n",
              "[531 rows x 6 columns]"
            ]
          },
          "execution_count": 33,
          "metadata": {},
          "output_type": "execute_result"
        }
      ],
      "source": [
        "#selecting only the prepared data\n",
        "movie = data.loc[:,['director_name','actor_1_name','actor_2_name','actor_3_name','genres_list','title']]\n",
        "movie"
      ]
    },
    {
      "cell_type": "code",
      "execution_count": 34,
      "metadata": {
        "colab": {
          "base_uri": "https://localhost:8080/"
        },
        "collapsed": true,
        "id": "nFcpCuFa50Hb",
        "outputId": "69ba0bdf-ccc6-4606-dc5a-21ed69ad773b"
      },
      "outputs": [
        {
          "data": {
            "text/plain": [
              "director_name     4\n",
              "actor_1_name     22\n",
              "actor_2_name     55\n",
              "actor_3_name     70\n",
              "genres_list       7\n",
              "title             0\n",
              "dtype: int64"
            ]
          },
          "execution_count": 34,
          "metadata": {},
          "output_type": "execute_result"
        }
      ],
      "source": [
        "\n",
        "movie.isna().sum()"
      ]
    },
    {
      "cell_type": "code",
      "execution_count": 35,
      "metadata": {
        "id": "4b6qkTQd50Ei"
      },
      "outputs": [],
      "source": [
        "#drop missing values\n",
        "movie = movie.dropna(how='any')"
      ]
    },
    {
      "cell_type": "code",
      "execution_count": 36,
      "metadata": {
        "colab": {
          "base_uri": "https://localhost:8080/"
        },
        "collapsed": true,
        "id": "4sxlIUoC50Bf",
        "outputId": "ec48efa6-101c-4446-d033-74a48d90fa73"
      },
      "outputs": [
        {
          "data": {
            "text/plain": [
              "director_name    0\n",
              "actor_1_name     0\n",
              "actor_2_name     0\n",
              "actor_3_name     0\n",
              "genres_list      0\n",
              "title            0\n",
              "dtype: int64"
            ]
          },
          "execution_count": 36,
          "metadata": {},
          "output_type": "execute_result"
        }
      ],
      "source": [
        "\n",
        "movie.isna().sum()"
      ]
    },
    {
      "cell_type": "code",
      "execution_count": 37,
      "metadata": {
        "id": "ie40mMjK5z-f"
      },
      "outputs": [],
      "source": [
        "#renaming\n",
        "movie = movie.rename(columns={'genres_list':'genres'})\n",
        "movie = movie.rename(columns={'title':'movie_title'})"
      ]
    },
    {
      "cell_type": "code",
      "execution_count": 38,
      "metadata": {
        "id": "HgxtaQyz5z7V"
      },
      "outputs": [],
      "source": [
        "#convert all movie titles to lower case\n",
        "movie['movie_title'] = movie['movie_title'].str.lower()"
      ]
    },
    {
      "cell_type": "code",
      "execution_count": 39,
      "metadata": {
        "colab": {
          "base_uri": "https://localhost:8080/",
          "height": 850
        },
        "collapsed": true,
        "id": "PUn1EJaF6txv",
        "outputId": "eac62707-b6c1-4031-af9c-0139235339d8"
      },
      "outputs": [
        {
          "data": {
            "text/html": [
              "<div>\n",
              "<style scoped>\n",
              "    .dataframe tbody tr th:only-of-type {\n",
              "        vertical-align: middle;\n",
              "    }\n",
              "\n",
              "    .dataframe tbody tr th {\n",
              "        vertical-align: top;\n",
              "    }\n",
              "\n",
              "    .dataframe thead th {\n",
              "        text-align: right;\n",
              "    }\n",
              "</style>\n",
              "<table border=\"1\" class=\"dataframe\">\n",
              "  <thead>\n",
              "    <tr style=\"text-align: right;\">\n",
              "      <th></th>\n",
              "      <th>director_name</th>\n",
              "      <th>actor_1_name</th>\n",
              "      <th>actor_2_name</th>\n",
              "      <th>actor_3_name</th>\n",
              "      <th>genres</th>\n",
              "      <th>movie_title</th>\n",
              "      <th>comb</th>\n",
              "    </tr>\n",
              "  </thead>\n",
              "  <tbody>\n",
              "    <tr>\n",
              "      <th>0</th>\n",
              "      <td>Joachim Rønning Espen Sandberg</td>\n",
              "      <td>Johnny Depp</td>\n",
              "      <td>Javier Bardem</td>\n",
              "      <td>Geoffrey Rush</td>\n",
              "      <td>Adventure Action Fantasy Comedy</td>\n",
              "      <td>pirates of the caribbean: dead men tell no tales</td>\n",
              "      <td>Johnny Depp Javier Bardem Geoffrey Rush Joachim Rønning Espen Sandberg ...</td>\n",
              "    </tr>\n",
              "    <tr>\n",
              "      <th>1</th>\n",
              "      <td>Zack Snyder</td>\n",
              "      <td>Ben Affleck</td>\n",
              "      <td>Henry Cavill</td>\n",
              "      <td>Gal Gadot</td>\n",
              "      <td>Action Adventure Fantasy Sci-Fi</td>\n",
              "      <td>justice league</td>\n",
              "      <td>Ben Affleck Henry Cavill Gal Gadot Zack Snyder Action Adventure Fantasy...</td>\n",
              "    </tr>\n",
              "    <tr>\n",
              "      <th>2</th>\n",
              "      <td>Taika Waititi</td>\n",
              "      <td>Chris Hemsworth</td>\n",
              "      <td>Tom Hiddleston</td>\n",
              "      <td>Cate Blanchett</td>\n",
              "      <td>Action Adventure Fantasy Sci-Fi</td>\n",
              "      <td>thor: ragnarok</td>\n",
              "      <td>Chris Hemsworth Tom Hiddleston Cate Blanchett Taika Waititi Action Adve...</td>\n",
              "    </tr>\n",
              "    <tr>\n",
              "      <th>3</th>\n",
              "      <td>James Gunn</td>\n",
              "      <td>Chris Pratt</td>\n",
              "      <td>Zoe Saldana</td>\n",
              "      <td>Dave Bautista</td>\n",
              "      <td>Action Adventure Comedy Sci-Fi</td>\n",
              "      <td>guardians of the galaxy vol. 2</td>\n",
              "      <td>Chris Pratt Zoe Saldana Dave Bautista James Gunn Action Adventure Comed...</td>\n",
              "    </tr>\n",
              "    <tr>\n",
              "      <th>4</th>\n",
              "      <td>Sean McNamara</td>\n",
              "      <td>Pierce Brosnan</td>\n",
              "      <td>William Hurt</td>\n",
              "      <td>Benjamin Walker</td>\n",
              "      <td>Fantasy Action Adventure</td>\n",
              "      <td>the king's daughter</td>\n",
              "      <td>Pierce Brosnan William Hurt Benjamin Walker Sean McNamara Fantasy Actio...</td>\n",
              "    </tr>\n",
              "  </tbody>\n",
              "</table>\n",
              "</div>"
            ],
            "text/plain": [
              "                    director_name     actor_1_name    actor_2_name  \\\n",
              "0  Joachim Rønning Espen Sandberg      Johnny Depp   Javier Bardem   \n",
              "1                     Zack Snyder      Ben Affleck    Henry Cavill   \n",
              "2                   Taika Waititi  Chris Hemsworth  Tom Hiddleston   \n",
              "3                      James Gunn      Chris Pratt     Zoe Saldana   \n",
              "4                   Sean McNamara   Pierce Brosnan    William Hurt   \n",
              "\n",
              "      actor_3_name                           genres  \\\n",
              "0    Geoffrey Rush  Adventure Action Fantasy Comedy   \n",
              "1        Gal Gadot  Action Adventure Fantasy Sci-Fi   \n",
              "2   Cate Blanchett  Action Adventure Fantasy Sci-Fi   \n",
              "3    Dave Bautista   Action Adventure Comedy Sci-Fi   \n",
              "4  Benjamin Walker         Fantasy Action Adventure   \n",
              "\n",
              "                                        movie_title  \\\n",
              "0  pirates of the caribbean: dead men tell no tales   \n",
              "1                                    justice league   \n",
              "2                                    thor: ragnarok   \n",
              "3                    guardians of the galaxy vol. 2   \n",
              "4                               the king's daughter   \n",
              "\n",
              "                                                                         comb  \n",
              "0  Johnny Depp Javier Bardem Geoffrey Rush Joachim Rønning Espen Sandberg ...  \n",
              "1  Ben Affleck Henry Cavill Gal Gadot Zack Snyder Action Adventure Fantasy...  \n",
              "2  Chris Hemsworth Tom Hiddleston Cate Blanchett Taika Waititi Action Adve...  \n",
              "3  Chris Pratt Zoe Saldana Dave Bautista James Gunn Action Adventure Comed...  \n",
              "4  Pierce Brosnan William Hurt Benjamin Walker Sean McNamara Fantasy Actio...  "
            ]
          },
          "execution_count": 39,
          "metadata": {},
          "output_type": "execute_result"
        }
      ],
      "source": [
        "#I will be using this information later on in the tfidvectorizor\n",
        "movie['comb'] = movie['actor_1_name'] + ' ' + movie['actor_2_name'] + ' '+ movie['actor_3_name'] + ' '+ movie['director_name'] +' ' + movie['genres']\n",
        "movie.head()"
      ]
    },
    {
      "cell_type": "code",
      "execution_count": 48,
      "metadata": {
        "colab": {
          "base_uri": "https://localhost:8080/",
          "height": 537
        },
        "collapsed": true,
        "id": "dxYgHTW_7GV0",
        "outputId": "a514a6c6-8080-4d6c-f39d-f240c88d2faa"
      },
      "outputs": [
        {
          "data": {
            "text/html": [
              "<div>\n",
              "<style scoped>\n",
              "    .dataframe tbody tr th:only-of-type {\n",
              "        vertical-align: middle;\n",
              "    }\n",
              "\n",
              "    .dataframe tbody tr th {\n",
              "        vertical-align: top;\n",
              "    }\n",
              "\n",
              "    .dataframe thead th {\n",
              "        text-align: right;\n",
              "    }\n",
              "</style>\n",
              "<table border=\"1\" class=\"dataframe\">\n",
              "  <thead>\n",
              "    <tr style=\"text-align: right;\">\n",
              "      <th></th>\n",
              "      <th>director_name</th>\n",
              "      <th>actor_1_name</th>\n",
              "      <th>actor_2_name</th>\n",
              "      <th>actor_3_name</th>\n",
              "      <th>genres</th>\n",
              "      <th>movie_title</th>\n",
              "    </tr>\n",
              "  </thead>\n",
              "  <tbody>\n",
              "    <tr>\n",
              "      <th>0</th>\n",
              "      <td>James Cameron</td>\n",
              "      <td>CCH Pounder</td>\n",
              "      <td>Joel David Moore</td>\n",
              "      <td>Wes Studi</td>\n",
              "      <td>Action Adventure Fantasy Sci-Fi</td>\n",
              "      <td>avatar</td>\n",
              "    </tr>\n",
              "    <tr>\n",
              "      <th>1</th>\n",
              "      <td>Gore Verbinski</td>\n",
              "      <td>Johnny Depp</td>\n",
              "      <td>Orlando Bloom</td>\n",
              "      <td>Jack Davenport</td>\n",
              "      <td>Action Adventure Fantasy</td>\n",
              "      <td>pirates of the caribbean: at world's end</td>\n",
              "    </tr>\n",
              "    <tr>\n",
              "      <th>2</th>\n",
              "      <td>Sam Mendes</td>\n",
              "      <td>Christoph Waltz</td>\n",
              "      <td>Rory Kinnear</td>\n",
              "      <td>Stephanie Sigman</td>\n",
              "      <td>Action Adventure Thriller</td>\n",
              "      <td>spectre</td>\n",
              "    </tr>\n",
              "    <tr>\n",
              "      <th>3</th>\n",
              "      <td>Christopher Nolan</td>\n",
              "      <td>Tom Hardy</td>\n",
              "      <td>Christian Bale</td>\n",
              "      <td>Joseph Gordon-Levitt</td>\n",
              "      <td>Action Thriller</td>\n",
              "      <td>the dark knight rises</td>\n",
              "    </tr>\n",
              "    <tr>\n",
              "      <th>4</th>\n",
              "      <td>Doug Walker</td>\n",
              "      <td>Doug Walker</td>\n",
              "      <td>Rob Walker</td>\n",
              "      <td>unknown</td>\n",
              "      <td>Documentary</td>\n",
              "      <td>star wars: episode vii - the force awakens</td>\n",
              "    </tr>\n",
              "  </tbody>\n",
              "</table>\n",
              "</div>"
            ],
            "text/plain": [
              "       director_name     actor_1_name      actor_2_name          actor_3_name  \\\n",
              "0      James Cameron      CCH Pounder  Joel David Moore             Wes Studi   \n",
              "1     Gore Verbinski      Johnny Depp     Orlando Bloom        Jack Davenport   \n",
              "2         Sam Mendes  Christoph Waltz      Rory Kinnear      Stephanie Sigman   \n",
              "3  Christopher Nolan        Tom Hardy    Christian Bale  Joseph Gordon-Levitt   \n",
              "4        Doug Walker      Doug Walker        Rob Walker               unknown   \n",
              "\n",
              "                            genres  \\\n",
              "0  Action Adventure Fantasy Sci-Fi   \n",
              "1         Action Adventure Fantasy   \n",
              "2        Action Adventure Thriller   \n",
              "3                  Action Thriller   \n",
              "4                      Documentary   \n",
              "\n",
              "                                              movie_title  \n",
              "0                                                  avatar  \n",
              "1                pirates of the caribbean: at world's end  \n",
              "2                                                 spectre  \n",
              "3                                   the dark knight rises  \n",
              "4  star wars: episode vii - the force awakens              "
            ]
          },
          "execution_count": 48,
          "metadata": {},
          "output_type": "execute_result"
        }
      ],
      "source": [
        "old = pd.read_csv('data1.csv')\n",
        "old.head()"
      ]
    },
    {
      "cell_type": "code",
      "execution_count": 49,
      "metadata": {
        "colab": {
          "base_uri": "https://localhost:8080/",
          "height": 815
        },
        "collapsed": true,
        "id": "9FkZY_vD9s9b",
        "outputId": "7d1bd307-3128-48e7-e336-98a20a1472d1"
      },
      "outputs": [
        {
          "data": {
            "text/html": [
              "<div>\n",
              "<style scoped>\n",
              "    .dataframe tbody tr th:only-of-type {\n",
              "        vertical-align: middle;\n",
              "    }\n",
              "\n",
              "    .dataframe tbody tr th {\n",
              "        vertical-align: top;\n",
              "    }\n",
              "\n",
              "    .dataframe thead th {\n",
              "        text-align: right;\n",
              "    }\n",
              "</style>\n",
              "<table border=\"1\" class=\"dataframe\">\n",
              "  <thead>\n",
              "    <tr style=\"text-align: right;\">\n",
              "      <th></th>\n",
              "      <th>director_name</th>\n",
              "      <th>actor_1_name</th>\n",
              "      <th>actor_2_name</th>\n",
              "      <th>actor_3_name</th>\n",
              "      <th>genres</th>\n",
              "      <th>movie_title</th>\n",
              "      <th>comb</th>\n",
              "    </tr>\n",
              "  </thead>\n",
              "  <tbody>\n",
              "    <tr>\n",
              "      <th>0</th>\n",
              "      <td>James Cameron</td>\n",
              "      <td>CCH Pounder</td>\n",
              "      <td>Joel David Moore</td>\n",
              "      <td>Wes Studi</td>\n",
              "      <td>Action Adventure Fantasy Sci-Fi</td>\n",
              "      <td>avatar</td>\n",
              "      <td>CCH Pounder Joel David Moore Wes Studi James Cameron Action Adventure F...</td>\n",
              "    </tr>\n",
              "    <tr>\n",
              "      <th>1</th>\n",
              "      <td>Gore Verbinski</td>\n",
              "      <td>Johnny Depp</td>\n",
              "      <td>Orlando Bloom</td>\n",
              "      <td>Jack Davenport</td>\n",
              "      <td>Action Adventure Fantasy</td>\n",
              "      <td>pirates of the caribbean: at world's end</td>\n",
              "      <td>Johnny Depp Orlando Bloom Jack Davenport Gore Verbinski Action Adventur...</td>\n",
              "    </tr>\n",
              "    <tr>\n",
              "      <th>2</th>\n",
              "      <td>Sam Mendes</td>\n",
              "      <td>Christoph Waltz</td>\n",
              "      <td>Rory Kinnear</td>\n",
              "      <td>Stephanie Sigman</td>\n",
              "      <td>Action Adventure Thriller</td>\n",
              "      <td>spectre</td>\n",
              "      <td>Christoph Waltz Rory Kinnear Stephanie Sigman Sam Mendes Action Adventu...</td>\n",
              "    </tr>\n",
              "    <tr>\n",
              "      <th>3</th>\n",
              "      <td>Christopher Nolan</td>\n",
              "      <td>Tom Hardy</td>\n",
              "      <td>Christian Bale</td>\n",
              "      <td>Joseph Gordon-Levitt</td>\n",
              "      <td>Action Thriller</td>\n",
              "      <td>the dark knight rises</td>\n",
              "      <td>Tom Hardy Christian Bale Joseph Gordon-Levitt Christopher Nolan Action ...</td>\n",
              "    </tr>\n",
              "    <tr>\n",
              "      <th>4</th>\n",
              "      <td>Doug Walker</td>\n",
              "      <td>Doug Walker</td>\n",
              "      <td>Rob Walker</td>\n",
              "      <td>unknown</td>\n",
              "      <td>Documentary</td>\n",
              "      <td>star wars: episode vii - the force awakens</td>\n",
              "      <td>Doug Walker Rob Walker unknown Doug Walker Documentary</td>\n",
              "    </tr>\n",
              "  </tbody>\n",
              "</table>\n",
              "</div>"
            ],
            "text/plain": [
              "       director_name     actor_1_name      actor_2_name          actor_3_name  \\\n",
              "0      James Cameron      CCH Pounder  Joel David Moore             Wes Studi   \n",
              "1     Gore Verbinski      Johnny Depp     Orlando Bloom        Jack Davenport   \n",
              "2         Sam Mendes  Christoph Waltz      Rory Kinnear      Stephanie Sigman   \n",
              "3  Christopher Nolan        Tom Hardy    Christian Bale  Joseph Gordon-Levitt   \n",
              "4        Doug Walker      Doug Walker        Rob Walker               unknown   \n",
              "\n",
              "                            genres  \\\n",
              "0  Action Adventure Fantasy Sci-Fi   \n",
              "1         Action Adventure Fantasy   \n",
              "2        Action Adventure Thriller   \n",
              "3                  Action Thriller   \n",
              "4                      Documentary   \n",
              "\n",
              "                                              movie_title  \\\n",
              "0                                                  avatar   \n",
              "1                pirates of the caribbean: at world's end   \n",
              "2                                                 spectre   \n",
              "3                                   the dark knight rises   \n",
              "4  star wars: episode vii - the force awakens               \n",
              "\n",
              "                                                                         comb  \n",
              "0  CCH Pounder Joel David Moore Wes Studi James Cameron Action Adventure F...  \n",
              "1  Johnny Depp Orlando Bloom Jack Davenport Gore Verbinski Action Adventur...  \n",
              "2  Christoph Waltz Rory Kinnear Stephanie Sigman Sam Mendes Action Adventu...  \n",
              "3  Tom Hardy Christian Bale Joseph Gordon-Levitt Christopher Nolan Action ...  \n",
              "4                      Doug Walker Rob Walker unknown Doug Walker Documentary  "
            ]
          },
          "execution_count": 49,
          "metadata": {},
          "output_type": "execute_result"
        }
      ],
      "source": [
        "old['comb'] = old['actor_1_name'] + ' ' + old['actor_2_name'] + ' '+ old['actor_3_name'] + ' '+ old['director_name'] +' ' + old['genres']\n",
        "\n",
        "old.head()"
      ]
    },
    {
      "cell_type": "code",
      "execution_count": 51,
      "metadata": {
        "colab": {
          "base_uri": "https://localhost:8080/",
          "height": 867
        },
        "collapsed": true,
        "id": "cY2JsDfu-L6W",
        "outputId": "30236095-5f57-4215-c45a-1e7c8d071654"
      },
      "outputs": [
        {
          "name": "stderr",
          "output_type": "stream",
          "text": [
            "/var/folders/8j/5mg1hqbx0rxgbv5q60g_dhhc0000gn/T/ipykernel_1573/835724542.py:3: FutureWarning: The frame.append method is deprecated and will be removed from pandas in a future version. Use pandas.concat instead.\n",
            "  new = old.append(movie)\n"
          ]
        },
        {
          "data": {
            "text/html": [
              "<div>\n",
              "<style scoped>\n",
              "    .dataframe tbody tr th:only-of-type {\n",
              "        vertical-align: middle;\n",
              "    }\n",
              "\n",
              "    .dataframe tbody tr th {\n",
              "        vertical-align: top;\n",
              "    }\n",
              "\n",
              "    .dataframe thead th {\n",
              "        text-align: right;\n",
              "    }\n",
              "</style>\n",
              "<table border=\"1\" class=\"dataframe\">\n",
              "  <thead>\n",
              "    <tr style=\"text-align: right;\">\n",
              "      <th></th>\n",
              "      <th>director_name</th>\n",
              "      <th>actor_1_name</th>\n",
              "      <th>actor_2_name</th>\n",
              "      <th>actor_3_name</th>\n",
              "      <th>genres</th>\n",
              "      <th>movie_title</th>\n",
              "      <th>comb</th>\n",
              "    </tr>\n",
              "  </thead>\n",
              "  <tbody>\n",
              "    <tr>\n",
              "      <th>0</th>\n",
              "      <td>James Cameron</td>\n",
              "      <td>CCH Pounder</td>\n",
              "      <td>Joel David Moore</td>\n",
              "      <td>Wes Studi</td>\n",
              "      <td>Action Adventure Fantasy Sci-Fi</td>\n",
              "      <td>avatar</td>\n",
              "      <td>CCH Pounder Joel David Moore Wes Studi James Cameron Action Adventure F...</td>\n",
              "    </tr>\n",
              "    <tr>\n",
              "      <th>1</th>\n",
              "      <td>Gore Verbinski</td>\n",
              "      <td>Johnny Depp</td>\n",
              "      <td>Orlando Bloom</td>\n",
              "      <td>Jack Davenport</td>\n",
              "      <td>Action Adventure Fantasy</td>\n",
              "      <td>pirates of the caribbean: at world's end</td>\n",
              "      <td>Johnny Depp Orlando Bloom Jack Davenport Gore Verbinski Action Adventur...</td>\n",
              "    </tr>\n",
              "    <tr>\n",
              "      <th>2</th>\n",
              "      <td>Sam Mendes</td>\n",
              "      <td>Christoph Waltz</td>\n",
              "      <td>Rory Kinnear</td>\n",
              "      <td>Stephanie Sigman</td>\n",
              "      <td>Action Adventure Thriller</td>\n",
              "      <td>spectre</td>\n",
              "      <td>Christoph Waltz Rory Kinnear Stephanie Sigman Sam Mendes Action Adventu...</td>\n",
              "    </tr>\n",
              "    <tr>\n",
              "      <th>3</th>\n",
              "      <td>Christopher Nolan</td>\n",
              "      <td>Tom Hardy</td>\n",
              "      <td>Christian Bale</td>\n",
              "      <td>Joseph Gordon-Levitt</td>\n",
              "      <td>Action Thriller</td>\n",
              "      <td>the dark knight rises</td>\n",
              "      <td>Tom Hardy Christian Bale Joseph Gordon-Levitt Christopher Nolan Action ...</td>\n",
              "    </tr>\n",
              "    <tr>\n",
              "      <th>4</th>\n",
              "      <td>Doug Walker</td>\n",
              "      <td>Doug Walker</td>\n",
              "      <td>Rob Walker</td>\n",
              "      <td>unknown</td>\n",
              "      <td>Documentary</td>\n",
              "      <td>star wars: episode vii - the force awakens</td>\n",
              "      <td>Doug Walker Rob Walker unknown Doug Walker Documentary</td>\n",
              "    </tr>\n",
              "    <tr>\n",
              "      <th>...</th>\n",
              "      <td>...</td>\n",
              "      <td>...</td>\n",
              "      <td>...</td>\n",
              "      <td>...</td>\n",
              "      <td>...</td>\n",
              "      <td>...</td>\n",
              "      <td>...</td>\n",
              "    </tr>\n",
              "    <tr>\n",
              "      <th>524</th>\n",
              "      <td>Jim Strouse</td>\n",
              "      <td>Jessica Williams</td>\n",
              "      <td>Chris O'Dowd</td>\n",
              "      <td>Keith Stanfield</td>\n",
              "      <td>Romance Comedy</td>\n",
              "      <td>the incredible jessica james</td>\n",
              "      <td>Jessica Williams Chris O'Dowd Keith Stanfield Jim Strouse Romance Comedy</td>\n",
              "    </tr>\n",
              "    <tr>\n",
              "      <th>525</th>\n",
              "      <td>Farhad Mann</td>\n",
              "      <td>Adelaide Kane</td>\n",
              "      <td>Benjamin Hollingsworth</td>\n",
              "      <td>Jean Louisa Kelly</td>\n",
              "      <td>Romance</td>\n",
              "      <td>can't buy my love</td>\n",
              "      <td>Adelaide Kane Benjamin Hollingsworth Jean Louisa Kelly Farhad Mann Romance</td>\n",
              "    </tr>\n",
              "    <tr>\n",
              "      <th>526</th>\n",
              "      <td>Hannaleena Hauru</td>\n",
              "      <td>Inka Haapamäki</td>\n",
              "      <td>Rosa Honkonen</td>\n",
              "      <td>Tiitus Rantala</td>\n",
              "      <td>Romance Comedy</td>\n",
              "      <td>thick lashes of lauri mäntyvaara</td>\n",
              "      <td>Inka Haapamäki Rosa Honkonen Tiitus Rantala Hannaleena Hauru Romance Co...</td>\n",
              "    </tr>\n",
              "    <tr>\n",
              "      <th>527</th>\n",
              "      <td>Jonathan A. Rosenbaum</td>\n",
              "      <td>Lou Diamond Phillips</td>\n",
              "      <td>Wallace Shawn</td>\n",
              "      <td>Gina Holden</td>\n",
              "      <td>Crime Comedy Action Family</td>\n",
              "      <td>cop and a half: new recruit</td>\n",
              "      <td>Lou Diamond Phillips Wallace Shawn Gina Holden Jonathan A. Rosenbaum Cr...</td>\n",
              "    </tr>\n",
              "    <tr>\n",
              "      <th>529</th>\n",
              "      <td>Ravi Udyawar</td>\n",
              "      <td>Sridevi Kapoor</td>\n",
              "      <td>Sajal Ali</td>\n",
              "      <td>Akshaye Khanna</td>\n",
              "      <td>Crime Drama Thriller</td>\n",
              "      <td>mom</td>\n",
              "      <td>Sridevi Kapoor Sajal Ali Akshaye Khanna Ravi Udyawar Crime Drama Thriller</td>\n",
              "    </tr>\n",
              "  </tbody>\n",
              "</table>\n",
              "<p>5501 rows × 7 columns</p>\n",
              "</div>"
            ],
            "text/plain": [
              "             director_name          actor_1_name            actor_2_name  \\\n",
              "0            James Cameron           CCH Pounder        Joel David Moore   \n",
              "1           Gore Verbinski           Johnny Depp           Orlando Bloom   \n",
              "2               Sam Mendes       Christoph Waltz            Rory Kinnear   \n",
              "3        Christopher Nolan             Tom Hardy          Christian Bale   \n",
              "4              Doug Walker           Doug Walker              Rob Walker   \n",
              "..                     ...                   ...                     ...   \n",
              "524            Jim Strouse      Jessica Williams            Chris O'Dowd   \n",
              "525            Farhad Mann         Adelaide Kane  Benjamin Hollingsworth   \n",
              "526       Hannaleena Hauru        Inka Haapamäki           Rosa Honkonen   \n",
              "527  Jonathan A. Rosenbaum  Lou Diamond Phillips           Wallace Shawn   \n",
              "529           Ravi Udyawar        Sridevi Kapoor               Sajal Ali   \n",
              "\n",
              "             actor_3_name                           genres  \\\n",
              "0               Wes Studi  Action Adventure Fantasy Sci-Fi   \n",
              "1          Jack Davenport         Action Adventure Fantasy   \n",
              "2        Stephanie Sigman        Action Adventure Thriller   \n",
              "3    Joseph Gordon-Levitt                  Action Thriller   \n",
              "4                 unknown                      Documentary   \n",
              "..                    ...                              ...   \n",
              "524       Keith Stanfield                   Romance Comedy   \n",
              "525     Jean Louisa Kelly                          Romance   \n",
              "526        Tiitus Rantala                   Romance Comedy   \n",
              "527           Gina Holden       Crime Comedy Action Family   \n",
              "529        Akshaye Khanna             Crime Drama Thriller   \n",
              "\n",
              "                                                movie_title  \\\n",
              "0                                                    avatar   \n",
              "1                  pirates of the caribbean: at world's end   \n",
              "2                                                   spectre   \n",
              "3                                     the dark knight rises   \n",
              "4    star wars: episode vii - the force awakens               \n",
              "..                                                      ...   \n",
              "524                            the incredible jessica james   \n",
              "525                                       can't buy my love   \n",
              "526                        thick lashes of lauri mäntyvaara   \n",
              "527                             cop and a half: new recruit   \n",
              "529                                                     mom   \n",
              "\n",
              "                                                                           comb  \n",
              "0    CCH Pounder Joel David Moore Wes Studi James Cameron Action Adventure F...  \n",
              "1    Johnny Depp Orlando Bloom Jack Davenport Gore Verbinski Action Adventur...  \n",
              "2    Christoph Waltz Rory Kinnear Stephanie Sigman Sam Mendes Action Adventu...  \n",
              "3    Tom Hardy Christian Bale Joseph Gordon-Levitt Christopher Nolan Action ...  \n",
              "4                        Doug Walker Rob Walker unknown Doug Walker Documentary  \n",
              "..                                                                          ...  \n",
              "524    Jessica Williams Chris O'Dowd Keith Stanfield Jim Strouse Romance Comedy  \n",
              "525  Adelaide Kane Benjamin Hollingsworth Jean Louisa Kelly Farhad Mann Romance  \n",
              "526  Inka Haapamäki Rosa Honkonen Tiitus Rantala Hannaleena Hauru Romance Co...  \n",
              "527  Lou Diamond Phillips Wallace Shawn Gina Holden Jonathan A. Rosenbaum Cr...  \n",
              "529   Sridevi Kapoor Sajal Ali Akshaye Khanna Ravi Udyawar Crime Drama Thriller  \n",
              "\n",
              "[5501 rows x 7 columns]"
            ]
          },
          "execution_count": 51,
          "metadata": {},
          "output_type": "execute_result"
        }
      ],
      "source": [
        "#putting all datasets together\n",
        "\n",
        "new = old.append(movie)\n",
        "new"
      ]
    },
    {
      "cell_type": "code",
      "execution_count": 52,
      "metadata": {
        "colab": {
          "base_uri": "https://localhost:8080/",
          "height": 867
        },
        "collapsed": true,
        "id": "__7SZ_2M-jun",
        "outputId": "35c3da68-6eab-4195-c7fe-412461a87923"
      },
      "outputs": [
        {
          "data": {
            "text/html": [
              "<div>\n",
              "<style scoped>\n",
              "    .dataframe tbody tr th:only-of-type {\n",
              "        vertical-align: middle;\n",
              "    }\n",
              "\n",
              "    .dataframe tbody tr th {\n",
              "        vertical-align: top;\n",
              "    }\n",
              "\n",
              "    .dataframe thead th {\n",
              "        text-align: right;\n",
              "    }\n",
              "</style>\n",
              "<table border=\"1\" class=\"dataframe\">\n",
              "  <thead>\n",
              "    <tr style=\"text-align: right;\">\n",
              "      <th></th>\n",
              "      <th>director_name</th>\n",
              "      <th>actor_1_name</th>\n",
              "      <th>actor_2_name</th>\n",
              "      <th>actor_3_name</th>\n",
              "      <th>genres</th>\n",
              "      <th>movie_title</th>\n",
              "      <th>comb</th>\n",
              "    </tr>\n",
              "  </thead>\n",
              "  <tbody>\n",
              "    <tr>\n",
              "      <th>0</th>\n",
              "      <td>James Cameron</td>\n",
              "      <td>CCH Pounder</td>\n",
              "      <td>Joel David Moore</td>\n",
              "      <td>Wes Studi</td>\n",
              "      <td>Action Adventure Fantasy Sci-Fi</td>\n",
              "      <td>avatar</td>\n",
              "      <td>CCH Pounder Joel David Moore Wes Studi James Cameron Action Adventure F...</td>\n",
              "    </tr>\n",
              "    <tr>\n",
              "      <th>1</th>\n",
              "      <td>Gore Verbinski</td>\n",
              "      <td>Johnny Depp</td>\n",
              "      <td>Orlando Bloom</td>\n",
              "      <td>Jack Davenport</td>\n",
              "      <td>Action Adventure Fantasy</td>\n",
              "      <td>pirates of the caribbean: at world's end</td>\n",
              "      <td>Johnny Depp Orlando Bloom Jack Davenport Gore Verbinski Action Adventur...</td>\n",
              "    </tr>\n",
              "    <tr>\n",
              "      <th>2</th>\n",
              "      <td>Sam Mendes</td>\n",
              "      <td>Christoph Waltz</td>\n",
              "      <td>Rory Kinnear</td>\n",
              "      <td>Stephanie Sigman</td>\n",
              "      <td>Action Adventure Thriller</td>\n",
              "      <td>spectre</td>\n",
              "      <td>Christoph Waltz Rory Kinnear Stephanie Sigman Sam Mendes Action Adventu...</td>\n",
              "    </tr>\n",
              "    <tr>\n",
              "      <th>3</th>\n",
              "      <td>Christopher Nolan</td>\n",
              "      <td>Tom Hardy</td>\n",
              "      <td>Christian Bale</td>\n",
              "      <td>Joseph Gordon-Levitt</td>\n",
              "      <td>Action Thriller</td>\n",
              "      <td>the dark knight rises</td>\n",
              "      <td>Tom Hardy Christian Bale Joseph Gordon-Levitt Christopher Nolan Action ...</td>\n",
              "    </tr>\n",
              "    <tr>\n",
              "      <th>4</th>\n",
              "      <td>Doug Walker</td>\n",
              "      <td>Doug Walker</td>\n",
              "      <td>Rob Walker</td>\n",
              "      <td>unknown</td>\n",
              "      <td>Documentary</td>\n",
              "      <td>star wars: episode vii - the force awakens</td>\n",
              "      <td>Doug Walker Rob Walker unknown Doug Walker Documentary</td>\n",
              "    </tr>\n",
              "    <tr>\n",
              "      <th>...</th>\n",
              "      <td>...</td>\n",
              "      <td>...</td>\n",
              "      <td>...</td>\n",
              "      <td>...</td>\n",
              "      <td>...</td>\n",
              "      <td>...</td>\n",
              "      <td>...</td>\n",
              "    </tr>\n",
              "    <tr>\n",
              "      <th>524</th>\n",
              "      <td>Jim Strouse</td>\n",
              "      <td>Jessica Williams</td>\n",
              "      <td>Chris O'Dowd</td>\n",
              "      <td>Keith Stanfield</td>\n",
              "      <td>Romance Comedy</td>\n",
              "      <td>the incredible jessica james</td>\n",
              "      <td>Jessica Williams Chris O'Dowd Keith Stanfield Jim Strouse Romance Comedy</td>\n",
              "    </tr>\n",
              "    <tr>\n",
              "      <th>525</th>\n",
              "      <td>Farhad Mann</td>\n",
              "      <td>Adelaide Kane</td>\n",
              "      <td>Benjamin Hollingsworth</td>\n",
              "      <td>Jean Louisa Kelly</td>\n",
              "      <td>Romance</td>\n",
              "      <td>can't buy my love</td>\n",
              "      <td>Adelaide Kane Benjamin Hollingsworth Jean Louisa Kelly Farhad Mann Romance</td>\n",
              "    </tr>\n",
              "    <tr>\n",
              "      <th>526</th>\n",
              "      <td>Hannaleena Hauru</td>\n",
              "      <td>Inka Haapamäki</td>\n",
              "      <td>Rosa Honkonen</td>\n",
              "      <td>Tiitus Rantala</td>\n",
              "      <td>Romance Comedy</td>\n",
              "      <td>thick lashes of lauri mäntyvaara</td>\n",
              "      <td>Inka Haapamäki Rosa Honkonen Tiitus Rantala Hannaleena Hauru Romance Co...</td>\n",
              "    </tr>\n",
              "    <tr>\n",
              "      <th>527</th>\n",
              "      <td>Jonathan A. Rosenbaum</td>\n",
              "      <td>Lou Diamond Phillips</td>\n",
              "      <td>Wallace Shawn</td>\n",
              "      <td>Gina Holden</td>\n",
              "      <td>Crime Comedy Action Family</td>\n",
              "      <td>cop and a half: new recruit</td>\n",
              "      <td>Lou Diamond Phillips Wallace Shawn Gina Holden Jonathan A. Rosenbaum Cr...</td>\n",
              "    </tr>\n",
              "    <tr>\n",
              "      <th>529</th>\n",
              "      <td>Ravi Udyawar</td>\n",
              "      <td>Sridevi Kapoor</td>\n",
              "      <td>Sajal Ali</td>\n",
              "      <td>Akshaye Khanna</td>\n",
              "      <td>Crime Drama Thriller</td>\n",
              "      <td>mom</td>\n",
              "      <td>Sridevi Kapoor Sajal Ali Akshaye Khanna Ravi Udyawar Crime Drama Thriller</td>\n",
              "    </tr>\n",
              "  </tbody>\n",
              "</table>\n",
              "<p>5364 rows × 7 columns</p>\n",
              "</div>"
            ],
            "text/plain": [
              "             director_name          actor_1_name            actor_2_name  \\\n",
              "0            James Cameron           CCH Pounder        Joel David Moore   \n",
              "1           Gore Verbinski           Johnny Depp           Orlando Bloom   \n",
              "2               Sam Mendes       Christoph Waltz            Rory Kinnear   \n",
              "3        Christopher Nolan             Tom Hardy          Christian Bale   \n",
              "4              Doug Walker           Doug Walker              Rob Walker   \n",
              "..                     ...                   ...                     ...   \n",
              "524            Jim Strouse      Jessica Williams            Chris O'Dowd   \n",
              "525            Farhad Mann         Adelaide Kane  Benjamin Hollingsworth   \n",
              "526       Hannaleena Hauru        Inka Haapamäki           Rosa Honkonen   \n",
              "527  Jonathan A. Rosenbaum  Lou Diamond Phillips           Wallace Shawn   \n",
              "529           Ravi Udyawar        Sridevi Kapoor               Sajal Ali   \n",
              "\n",
              "             actor_3_name                           genres  \\\n",
              "0               Wes Studi  Action Adventure Fantasy Sci-Fi   \n",
              "1          Jack Davenport         Action Adventure Fantasy   \n",
              "2        Stephanie Sigman        Action Adventure Thriller   \n",
              "3    Joseph Gordon-Levitt                  Action Thriller   \n",
              "4                 unknown                      Documentary   \n",
              "..                    ...                              ...   \n",
              "524       Keith Stanfield                   Romance Comedy   \n",
              "525     Jean Louisa Kelly                          Romance   \n",
              "526        Tiitus Rantala                   Romance Comedy   \n",
              "527           Gina Holden       Crime Comedy Action Family   \n",
              "529        Akshaye Khanna             Crime Drama Thriller   \n",
              "\n",
              "                                                movie_title  \\\n",
              "0                                                    avatar   \n",
              "1                  pirates of the caribbean: at world's end   \n",
              "2                                                   spectre   \n",
              "3                                     the dark knight rises   \n",
              "4    star wars: episode vii - the force awakens               \n",
              "..                                                      ...   \n",
              "524                            the incredible jessica james   \n",
              "525                                       can't buy my love   \n",
              "526                        thick lashes of lauri mäntyvaara   \n",
              "527                             cop and a half: new recruit   \n",
              "529                                                     mom   \n",
              "\n",
              "                                                                           comb  \n",
              "0    CCH Pounder Joel David Moore Wes Studi James Cameron Action Adventure F...  \n",
              "1    Johnny Depp Orlando Bloom Jack Davenport Gore Verbinski Action Adventur...  \n",
              "2    Christoph Waltz Rory Kinnear Stephanie Sigman Sam Mendes Action Adventu...  \n",
              "3    Tom Hardy Christian Bale Joseph Gordon-Levitt Christopher Nolan Action ...  \n",
              "4                        Doug Walker Rob Walker unknown Doug Walker Documentary  \n",
              "..                                                                          ...  \n",
              "524    Jessica Williams Chris O'Dowd Keith Stanfield Jim Strouse Romance Comedy  \n",
              "525  Adelaide Kane Benjamin Hollingsworth Jean Louisa Kelly Farhad Mann Romance  \n",
              "526  Inka Haapamäki Rosa Honkonen Tiitus Rantala Hannaleena Hauru Romance Co...  \n",
              "527  Lou Diamond Phillips Wallace Shawn Gina Holden Jonathan A. Rosenbaum Cr...  \n",
              "529   Sridevi Kapoor Sajal Ali Akshaye Khanna Ravi Udyawar Crime Drama Thriller  \n",
              "\n",
              "[5364 rows x 7 columns]"
            ]
          },
          "execution_count": 52,
          "metadata": {},
          "output_type": "execute_result"
        }
      ],
      "source": [
        "# I'm dropping the duplicated valuse and keeping only the last one, so that there will be only one type of a particular movie and not duplicates of same movie\n",
        "new.drop_duplicates(subset =\"movie_title\", keep = 'last', inplace = True)\n",
        "new"
      ]
    },
    {
      "cell_type": "code",
      "execution_count": 53,
      "metadata": {
        "id": "nd0m7Vvy-43N"
      },
      "outputs": [],
      "source": [
        "\n",
        "#saving all the data up to 2017\n",
        "new.to_csv('new_data.csv',index=False)"
      ]
    },
    {
      "cell_type": "code",
      "execution_count": null,
      "metadata": {
        "id": "1HgWpFy_-8af"
      },
      "outputs": [],
      "source": []
    }
  ],
  "metadata": {
    "colab": {
      "provenance": []
    },
    "kernelspec": {
      "display_name": "Python 3",
      "name": "python3"
    },
    "language_info": {
      "codemirror_mode": {
        "name": "ipython",
        "version": 3
      },
      "file_extension": ".py",
      "mimetype": "text/x-python",
      "name": "python",
      "nbconvert_exporter": "python",
      "pygments_lexer": "ipython3",
      "version": "3.10.9"
    }
  },
  "nbformat": 4,
  "nbformat_minor": 0
}
